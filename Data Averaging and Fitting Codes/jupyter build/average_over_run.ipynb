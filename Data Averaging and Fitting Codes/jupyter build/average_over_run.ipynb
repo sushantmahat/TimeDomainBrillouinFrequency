{
 "cells": [
  {
   "cell_type": "markdown",
   "metadata": {},
   "source": [
    "This program deals with data for picosecond acoustics and TDTR experiments. I have altered the LabView code to take repeated measurements over the same time delay period. So, the raw data is expected to have duplicate time points. This code is designed to average values for each time point. I have made the main code body to be a function so it can be called in a loop (makes fitting multiple datasets easier.) An example of the raw data is provided as 'test'. Signal avergaing like this will result in low frequency noises that mostly originate from from the laser and can be a pain to get rid of otherwise.\n"
   ]
  },
  {
   "cell_type": "code",
   "execution_count": 12,
   "metadata": {},
   "outputs": [],
   "source": [
    "import numpy as np\n",
    "import pandas as pd\n"
   ]
  },
  {
   "cell_type": "code",
   "execution_count": 13,
   "metadata": {},
   "outputs": [],
   "source": [
    "#importing data\n",
    "inp_file  = \"test\"\n",
    "#change the column names depending on the order in which the data is collected for your particular setup. The deault is shown below\n",
    "col_names = ['stg_pos', 'time delay', 'V_in', 'V_out', 'ratio', 'DVD'] "
   ]
  },
  {
   "cell_type": "markdown",
   "metadata": {},
   "source": [
    "The main function. Takes in the filename of the raw dataset. the output file will have a p\n",
    "refix attached to it that can be specified as a string input. Default is \"averaged_\". Depending on your labview settings, you will need to change the col_names array "
   ]
  },
  {
   "cell_type": "code",
   "execution_count": 19,
   "metadata": {},
   "outputs": [],
   "source": [
    "def average_over_time(file_name, return_prefix = \"averaged_\", column_names = col_names):\n",
    "    #import raw data as a pandas series:\n",
    "    data_pd = pd.read_csv(file_name, sep = '\\t', names= column_names)\n",
    "    \n",
    "    #rounds up all time delay points to closest intger.  \n",
    "    data_pd['time delay'] = data_pd['time delay'].round(decimals = 0)\n",
    "    \n",
    "    data_averaged = data_pd.groupby('time delay').mean()\n",
    "    \n",
    "    #internal test; comment out:\n",
    "    #print(data_averaged.head())\n",
    "    \n",
    "    data_averaged.to_csv(return_prefix + file_name)\n",
    "    print('saving data as ' + return_prefix + file_name)\n",
    "    #internal tests; comment out:\n",
    "    #print(data_averaged.nunique())"
   ]
  },
  {
   "cell_type": "code",
   "execution_count": 21,
   "metadata": {},
   "outputs": [
    {
     "name": "stdout",
     "output_type": "stream",
     "text": [
      "saving data as averaged_test\n"
     ]
    }
   ],
   "source": [
    "#test function:\n",
    "average_over_time(inp_file)"
   ]
  }
 ],
 "metadata": {
  "kernelspec": {
   "display_name": "Python 3",
   "language": "python",
   "name": "python3"
  },
  "language_info": {
   "codemirror_mode": {
    "name": "ipython",
    "version": 3
   },
   "file_extension": ".py",
   "mimetype": "text/x-python",
   "name": "python",
   "nbconvert_exporter": "python",
   "pygments_lexer": "ipython3",
   "version": "3.7.3"
  }
 },
 "nbformat": 4,
 "nbformat_minor": 2
}
